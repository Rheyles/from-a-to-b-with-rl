{
 "cells": [
  {
   "cell_type": "markdown",
   "metadata": {},
   "source": [
    "# Plot Training Logs\n",
    "\n",
    "**Plot the training logs of a model you have trained.** \n",
    "\n",
    "This notebook plots the Learning Rate (Eta), the Exploration Rate (Epsilon), the Reward by Episode and the Loss by Episode as a function of the episode.\n",
    "\n",
    "Command to Pip Install pandas included."
   ]
  },
  {
   "cell_type": "code",
   "execution_count": null,
   "metadata": {},
   "outputs": [],
   "source": [
    "! pip install pandas\n",
    "\n",
    "import pandas as pd\n",
    "import numpy as np\n",
    "import matplotlib.pyplot as plt\n",
    "import os\n"
   ]
  },
  {
   "cell_type": "code",
   "execution_count": null,
   "metadata": {},
   "outputs": [],
   "source": [
    "#Add path to model you have trained\n",
    "PATH = \"/home/ralph/code/rhage183/from-a-to-b-with-rl/code/models/0606_2131_CarDQNAgent\"\n",
    "\n",
    "\n",
    "logs = pd.read_csv(os.path.join(PATH,\"log.csv\"))\n",
    "logs.tail()"
   ]
  },
  {
   "cell_type": "code",
   "execution_count": null,
   "metadata": {},
   "outputs": [],
   "source": [
    "logs_by_episode = logs.groupby('Episode').sum('Reward').reset_index()\n",
    "logs_by_episode.head()"
   ]
  },
  {
   "cell_type": "code",
   "execution_count": null,
   "metadata": {},
   "outputs": [],
   "source": [
    "def plot_logs(logs, title):\n",
    "\n",
    "    logs_by_episode = logs.groupby('Episode').sum('Reward').reset_index()\n",
    "\n",
    "\n",
    "    fig, axs = plt.subplots(2,2)\n",
    "\n",
    "\n",
    "    fig.suptitle(title, fontsize=14)\n",
    "\n",
    "\n",
    "    #Subplot #1\n",
    "    axs[0,0].plot(logs[\"Episode\"], logs['Eta']);\n",
    "    axs[0,0].set_ylabel('Eta')\n",
    "    axs[0,0].set_xlabel('Episode')\n",
    "    axs[0,0].set_yscale('log')\n",
    "\n",
    "    #Subplot #2:\n",
    "    axs[0,1].plot(logs[\"Episode\"], logs['Epsilon']);\n",
    "    axs[0,1].set_ylabel('Epsilon')\n",
    "    axs[0,1].set_xlabel('Episode')\n",
    "    #axs[0,1].set_yscale('log')\n",
    "\n",
    "    #Subplot #3:\n",
    "    axs[1,0].plot(logs_by_episode[\"Episode\"], logs_by_episode['Reward']);\n",
    "    axs[1,0].set_ylabel('Reward by Episode')\n",
    "    axs[1,0].set_xlabel('Episode')\n",
    "    #axs[1,0].set_yscale('log')\n",
    "\n",
    "\n",
    "    #Subplot #4:\n",
    "    axs[1,1].plot(logs_by_episode[\"Episode\"], logs_by_episode['Loss']);\n",
    "    axs[1,1].set_ylabel('Loss by Episode')\n",
    "    axs[1,1].set_xlabel('Episode')\n",
    "    #axs[1,1].set_yscale('log')\n",
    "\n",
    "    fig.tight_layout()"
   ]
  },
  {
   "cell_type": "code",
   "execution_count": null,
   "metadata": {},
   "outputs": [],
   "source": [
    "plot_logs(logs, 'Car Racing logs training on 06/06')"
   ]
  }
 ],
 "metadata": {
  "kernelspec": {
   "display_name": "Python 3",
   "language": "python",
   "name": "python3"
  },
  "language_info": {
   "codemirror_mode": {
    "name": "ipython",
    "version": 3
   },
   "file_extension": ".py",
   "mimetype": "text/x-python",
   "name": "python",
   "nbconvert_exporter": "python",
   "pygments_lexer": "ipython3",
   "version": "3.11.9"
  }
 },
 "nbformat": 4,
 "nbformat_minor": 2
}
