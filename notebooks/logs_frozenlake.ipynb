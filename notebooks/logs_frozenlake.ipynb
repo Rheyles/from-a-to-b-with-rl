{
 "cells": [
  {
   "cell_type": "markdown",
   "metadata": {},
   "source": [
    "# Plot Training Logs : DQN_FrozenLake 🌲❄️🧝"
   ]
  },
  {
   "cell_type": "code",
   "execution_count": null,
   "metadata": {},
   "outputs": [],
   "source": [
    "import pandas as pd\n",
    "import matplotlib.pyplot as plt\n",
    "import numpy as np\n",
    "import glob\n",
    "import json"
   ]
  },
  {
   "cell_type": "markdown",
   "metadata": {},
   "source": [
    "##### Listing the available files"
   ]
  },
  {
   "cell_type": "code",
   "execution_count": null,
   "metadata": {},
   "outputs": [],
   "source": [
    "files = glob.glob('../models/DQN_FrozenLake*_log.csv')\n",
    "for no, file in enumerate(files):\n",
    "    fname = file.replace('_', ' ')\n",
    "    print(f\"{no:2d} | {fname}\")"
   ]
  },
  {
   "cell_type": "code",
   "execution_count": null,
   "metadata": {},
   "outputs": [],
   "source": [
    "choice = 2 # Make your choice here"
   ]
  },
  {
   "cell_type": "markdown",
   "metadata": {},
   "source": [
    "##### Printing the hyperparameters"
   ]
  },
  {
   "cell_type": "code",
   "execution_count": null,
   "metadata": {},
   "outputs": [],
   "source": [
    "print('Hyperparameters \\n' + '-'*40)\n",
    "with open(files[choice].replace('log.csv','prms.json')) as jfile:\n",
    "    prms = json.load(jfile)\n",
    "    for key, val in prms.items():\n",
    "        print(f'{key:>30s} : {val}')\n"
   ]
  },
  {
   "cell_type": "markdown",
   "metadata": {},
   "source": [
    "##### Plotting the data"
   ]
  },
  {
   "cell_type": "code",
   "execution_count": null,
   "metadata": {},
   "outputs": [],
   "source": [
    "df = pd.read_csv(files[choice])"
   ]
  },
  {
   "cell_type": "code",
   "execution_count": null,
   "metadata": {},
   "outputs": [],
   "source": [
    "fig, axes = plt.subplots(nrows=4, sharex=True, figsize=[8,8])\n",
    "\n",
    "axes[0].plot(df['episode'], df['step'])\n",
    "axes[1].plot(df['episode'], df['loss'], color='orchid')\n",
    "axes[2].plot(df['episode'], df['cum_reward'], color='lightsalmon', label='Inst.')\n",
    "axes[2].plot(df['episode'], df['cum_reward'].rolling(10, center=True).mean(), color='crimson', label='Avg. (10 eps)')\n",
    "axes[3].plot(df['episode'], df['epsilon'], color='seagreen', label='Avg. (10 eps)')\n",
    "\n",
    "# Formatting\n",
    "axes[1].plot(df['episode'], np.zeros_like(df['cum_reward']), 'k:')\n",
    "axes[2].plot(df['episode'], np.zeros_like(df['cum_reward']), 'k:')\n",
    "axes[2].plot(df['episode'], 500 * np.ones_like(df['cum_reward']), '--', color='chartreuse')\n",
    "axes[0].set_ylabel('Ep. length')\n",
    "axes[1].set_ylabel('Loss')\n",
    "axes[2].set_ylabel('Reward')\n",
    "axes[3].set_ylabel('Epsilon')\n",
    "axes[2].legend()\n",
    "\n",
    "axes[0].set_ylim([0, 100])\n",
    "axes[1].set_ylim([0,1e-2])\n",
    "axes[2].set_ylim([0, 1.1])\n",
    "axes[2].set_xlim([0, df['episode'].max()])\n",
    "axes[3].set_xlabel('Episode')\n",
    "\n",
    "axes[0].set_title(files[choice])\n",
    "\n",
    "fig.savefig(files[choice].replace('log.csv','fig.png'))"
   ]
  },
  {
   "cell_type": "code",
   "execution_count": null,
   "metadata": {},
   "outputs": [],
   "source": []
  },
  {
   "cell_type": "code",
   "execution_count": null,
   "metadata": {},
   "outputs": [],
   "source": []
  }
 ],
 "metadata": {
  "kernelspec": {
   "display_name": "Python 3",
   "language": "python",
   "name": "python3"
  },
  "language_info": {
   "codemirror_mode": {
    "name": "ipython",
    "version": 3
   },
   "file_extension": ".py",
   "mimetype": "text/x-python",
   "name": "python",
   "nbconvert_exporter": "python",
   "pygments_lexer": "ipython3",
   "version": "3.11.9"
  }
 },
 "nbformat": 4,
 "nbformat_minor": 2
}
