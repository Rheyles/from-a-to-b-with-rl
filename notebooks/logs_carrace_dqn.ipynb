{
 "cells": [
  {
   "cell_type": "markdown",
   "metadata": {},
   "source": [
    "# Plot Training Logs : DQN_CarRacing 🏎️🏁🏆"
   ]
  },
  {
   "cell_type": "code",
   "execution_count": null,
   "metadata": {},
   "outputs": [],
   "source": [
    "import pandas as pd\n",
    "import matplotlib.pyplot as plt\n",
    "import numpy as np\n",
    "import glob\n",
    "import json"
   ]
  },
  {
   "cell_type": "markdown",
   "metadata": {},
   "source": [
    "##### Listing the available files\n",
    "\n",
    "**Note** : Some of them will be labeled \"continuous\", they use the continuous model."
   ]
  },
  {
   "cell_type": "code",
   "execution_count": null,
   "metadata": {},
   "outputs": [],
   "source": [
    "files = glob.glob('../models/DQN_CarRacing*_log.csv')\n",
    "for no, file in enumerate(files):\n",
    "    fname = file.replace('_', ' ')\n",
    "    print(f\"{no:2d} | {fname}\")"
   ]
  },
  {
   "cell_type": "code",
   "execution_count": null,
   "metadata": {},
   "outputs": [],
   "source": [
    "choice = 0 # Make your choice here"
   ]
  },
  {
   "cell_type": "markdown",
   "metadata": {},
   "source": [
    "##### Printing the hyperparameters"
   ]
  },
  {
   "cell_type": "code",
   "execution_count": null,
   "metadata": {},
   "outputs": [],
   "source": [
    "continuous = False\n",
    "print('Hyperparameters \\n' + '-'*40)\n",
    "with open(files[choice].replace('log.csv','prms.json')) as jfile:\n",
    "    prms = json.load(jfile)\n",
    "    for key, val in prms.items():\n",
    "        print(f'{key:>30s} : {val}')\n",
    "\n",
    "if 'continuous' in files[choice].lower():\n",
    "    continuous = True\n",
    "\n",
    "print(f'{\"CONTINUOUS\":>30s} : {continuous}')"
   ]
  },
  {
   "cell_type": "markdown",
   "metadata": {},
   "source": [
    "##### Plotting the data"
   ]
  },
  {
   "cell_type": "code",
   "execution_count": null,
   "metadata": {},
   "outputs": [],
   "source": [
    "df = pd.read_csv(files[choice])"
   ]
  },
  {
   "cell_type": "code",
   "execution_count": null,
   "metadata": {},
   "outputs": [],
   "source": [
    "fig, axes = plt.subplots(nrows=5, sharex=True, figsize=[8,8])\n",
    "\n",
    "axes[0].plot(df['episode'], df['step'])\n",
    "axes[1].plot(df['episode'], df['loss'], color='orchid')\n",
    "axes[2].plot(df['episode'], df['epsilon'], color='slateblue')\n",
    "axes[3].plot(df['episode'], df['cum_reward'], color='lightsalmon', label='Inst.')\n",
    "axes[3].plot(df['episode'], df['cum_reward'].rolling(10, center=True).mean(), color='crimson', label='Avg. (10 eps)')\n",
    "\n",
    "if continuous: \n",
    "    axes[4].plot(df['episode'], df['action_0'].rolling(10, center=True).mean(), color='steelblue', label='Main Engine (avg)')\n",
    "    axes[4].plot(df['episode'], df['action_1'].rolling(10, center=True).mean(), color='tomato', label='Side Engine (avg)')\n",
    "    axes[4].set_ylim([-2,2])\n",
    "else:\n",
    "    axes[4].plot(df['episode'], df['action_0'].rolling(10, center=True).mean(), color='steelblue', label='Idle (prob.)')\n",
    "    axes[4].plot(df['episode'], df['action_1'].rolling(10, center=True).mean(), color='olivedrab', label='Left (prob.)')\n",
    "    axes[4].plot(df['episode'], df['action_2'].rolling(10, center=True).mean(), color='sandybrown', label='Right (prob.)')\n",
    "    axes[4].plot(df['episode'], df['action_3'].rolling(10, center=True).mean(), color='tomato', label='Gas (prob.)')\n",
    "    axes[4].plot(df['episode'], df['action_4'].rolling(10, center=True).mean(), color='mediumvioletred', label='Brake (prob.)')\n",
    "    axes[4].set_ylim([0,1])\n",
    "\n",
    "# Formatting\n",
    "axes[3].plot(df['episode'], np.zeros_like(df['cum_reward']), 'k:')\n",
    "axes[3].plot(df['episode'], 800 * np.ones_like(df['cum_reward']), '--', color='lawngreen')\n",
    "axes[0].set_ylabel('Ep. length')\n",
    "axes[1].set_ylabel('Loss')\n",
    "axes[2].set_ylabel('Epsilon')\n",
    "axes[3].set_ylabel('Reward')\n",
    "axes[3].legend()\n",
    "axes[4].legend()\n",
    "\n",
    "axes[0].set_ylim([0, 1000])\n",
    "axes[1].set_ylim([0,1])\n",
    "axes[2].set_ylim([0,1])\n",
    "axes[3].set_ylim([-200,1000])\n",
    "\n",
    "axes[0].set_title(files[choice])\n",
    "axes[4].set_xlim([0, df['episode'].max()])\n",
    "axes[4].set_xlabel('Episode')\n",
    "\n",
    "\n",
    "fig.savefig(files[choice].replace('log.csv','fig.png'))"
   ]
  }
 ],
 "metadata": {
  "kernelspec": {
   "display_name": "Python 3",
   "language": "python",
   "name": "python3"
  },
  "language_info": {
   "codemirror_mode": {
    "name": "ipython",
    "version": 3
   },
   "file_extension": ".py",
   "mimetype": "text/x-python",
   "name": "python",
   "nbconvert_exporter": "python",
   "pygments_lexer": "ipython3",
   "version": "3.11.9"
  }
 },
 "nbformat": 4,
 "nbformat_minor": 2
}
