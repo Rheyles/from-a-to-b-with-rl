{
 "cells": [
  {
   "cell_type": "markdown",
   "metadata": {},
   "source": [
    "# Plot Training Logs : PPO_cartpole (no fun emoji sadly)"
   ]
  },
  {
   "cell_type": "code",
   "execution_count": null,
   "metadata": {},
   "outputs": [],
   "source": [
    "import pandas as pd\n",
    "import matplotlib.pyplot as plt\n",
    "import numpy as np\n",
    "import glob\n",
    "import json"
   ]
  },
  {
   "cell_type": "markdown",
   "metadata": {},
   "source": [
    "##### Listing the available files"
   ]
  },
  {
   "cell_type": "code",
   "execution_count": null,
   "metadata": {},
   "outputs": [],
   "source": [
    "files = glob.glob('../models/PPO_Cartpole*_log.csv')\n",
    "for no, file in enumerate(files):\n",
    "    fname = file.replace('_', ' ')\n",
    "    print(f\"{no:2d} | {fname}\")"
   ]
  },
  {
   "cell_type": "code",
   "execution_count": null,
   "metadata": {},
   "outputs": [],
   "source": [
    "choice = -1 # Make your choice here"
   ]
  },
  {
   "cell_type": "markdown",
   "metadata": {},
   "source": [
    "##### Printing the hyperparameters"
   ]
  },
  {
   "cell_type": "code",
   "execution_count": null,
   "metadata": {},
   "outputs": [],
   "source": [
    "print('Hyperparameters \\n' + '-'*40)\n",
    "with open(files[choice].replace('log.csv','prms.json')) as jfile:\n",
    "    prms = json.load(jfile)\n",
    "    for key, val in prms.items():\n",
    "        print(f'{key:25s} : {val}')\n"
   ]
  },
  {
   "cell_type": "markdown",
   "metadata": {},
   "source": [
    "##### Plotting the data"
   ]
  },
  {
   "cell_type": "code",
   "execution_count": null,
   "metadata": {},
   "outputs": [],
   "source": [
    "df = pd.read_csv(files[choice])"
   ]
  },
  {
   "cell_type": "code",
   "execution_count": null,
   "metadata": {},
   "outputs": [],
   "source": [
    "fig, axes = plt.subplots(nrows=6, sharex=True, figsize=[8,8])\n",
    "\n",
    "axes[0].plot(df['episode'], df['step'])\n",
    "axes[1].plot(df['episode'], df['a_loss'], color='orchid')\n",
    "axes[2].plot(df['episode'], df['c_loss'], color='seagreen')\n",
    "axes[3].plot(df['episode'], df['e_loss'], color='peru')\n",
    "axes[4].plot(df['episode'], df['cum_reward'], color='lightsalmon', label='Inst.')\n",
    "axes[4].plot(df['episode'], df['cum_reward'].rolling(10, center=True).mean(), color='crimson', label='Avg. (10 eps)')\n",
    "axes[5].plot(df['episode'], df['action_0'], color='tomato', label='←')\n",
    "axes[5].plot(df['episode'], df['action_1'], color='cornflowerblue', label='→')\n",
    "\n",
    "# Formatting\n",
    "\n",
    "axes[0].set_title(files[choice])\n",
    "axes[0].set_ylim([0, 550])\n",
    "axes[0].set_ylabel('Ep. length')\n",
    "\n",
    "axes[1].set_ylim([-0.02,0.02])\n",
    "axes[1].plot(df['episode'], np.zeros_like(df['cum_reward']), 'k:')\n",
    "axes[1].set_ylabel('Actor Loss')\n",
    "\n",
    "axes[2].set_ylim([0,3000])\n",
    "axes[2].set_ylabel('Critic Losses')\n",
    "\n",
    "axes[3].set_ylabel('Entropy Losses')\n",
    "axes[3].set_ylim([0,1])\n",
    "\n",
    "axes[4].plot(df['episode'], np.zeros_like(df['cum_reward']), 'k:')\n",
    "axes[4].plot(df['episode'], 500 * np.ones_like(df['cum_reward']), '--', color='chartreuse')\n",
    "axes[4].set_ylabel('Reward')\n",
    "axes[4].set_ylim([0,550])\n",
    "axes[4].legend()\n",
    "\n",
    "axes[5].set_ylabel('Action proba.')\n",
    "axes[5].legend()\n",
    "axes[5].set_xlim([0, df['episode'].max()])\n",
    "axes[5].set_xlabel('Episode')\n",
    "\n",
    "\n",
    "fig.savefig(files[choice].replace('log.csv','fig.png'))"
   ]
  }
 ],
 "metadata": {
  "kernelspec": {
   "display_name": "Python 3",
   "language": "python",
   "name": "python3"
  },
  "language_info": {
   "codemirror_mode": {
    "name": "ipython",
    "version": 3
   },
   "file_extension": ".py",
   "mimetype": "text/x-python",
   "name": "python",
   "nbconvert_exporter": "python",
   "pygments_lexer": "ipython3",
   "version": "3.11.9"
  }
 },
 "nbformat": 4,
 "nbformat_minor": 2
}
